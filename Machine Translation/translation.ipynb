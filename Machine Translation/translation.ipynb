{
 "cells": [
  {
   "cell_type": "code",
   "execution_count": 1,
   "metadata": {},
   "outputs": [
    {
     "name": "stderr",
     "output_type": "stream",
     "text": [
      "D:\\MyAnaconda\\envs\\a3\\lib\\site-packages\\tqdm\\auto.py:22: TqdmWarning: IProgress not found. Please update jupyter and ipywidgets. See https://ipywidgets.readthedocs.io/en/stable/user_install.html\n",
      "  from .autonotebook import tqdm as notebook_tqdm\n",
      "Loading cached processed dataset at wmt_zh-en.hf\\cache-1a4ef48df1034150.arrow\n"
     ]
    }
   ],
   "source": [
    "import torch\n",
    "from model import Transformer\n",
    "from data import vocab_dic, loader\n",
    "from mask import mask_pad, mask_tril\n",
    "from tqdm import tqdm"
   ]
  },
  {
   "cell_type": "code",
   "execution_count": 2,
   "metadata": {},
   "outputs": [
    {
     "name": "stdout",
     "output_type": "stream",
     "text": [
      "12405 12405\n"
     ]
    },
    {
     "data": {
      "text/plain": [
       "(2993, 9259)"
      ]
     },
     "execution_count": 2,
     "metadata": {},
     "output_type": "execute_result"
    }
   ],
   "source": [
    "print(len(vocab_dic['encode']), len(vocab_dic['decode']))\n",
    "vocab_dic['encode']['城'], vocab_dic['encode']['市']"
   ]
  },
  {
   "cell_type": "code",
   "execution_count": 3,
   "metadata": {},
   "outputs": [
    {
     "data": {
      "text/plain": [
       "('城', '市')"
      ]
     },
     "execution_count": 3,
     "metadata": {},
     "output_type": "execute_result"
    }
   ],
   "source": [
    "vocab_dic['decode'][vocab_dic['encode']['城']], vocab_dic['decode'][vocab_dic['encode']['市']]"
   ]
  },
  {
   "cell_type": "code",
   "execution_count": 4,
   "metadata": {},
   "outputs": [],
   "source": [
    "def toStr(data):\n",
    "  data = data.tolist()\n",
    "  str = ''\n",
    "  for idx in data:\n",
    "    str += vocab_dic['decode'][idx] + ' '\n",
    "  \n",
    "  return str.replace('<PAD>', '').replace('<END>', '').replace('<START>', '')"
   ]
  },
  {
   "cell_type": "code",
   "execution_count": 5,
   "metadata": {},
   "outputs": [],
   "source": [
    "lr = 3e-4\n",
    "words_size = len(vocab_dic['encode'])\n",
    "embed_dims = 128\n",
    "drop_rate = 0.3\n",
    "heads = 4\n",
    "sens_len = 80\n",
    "epochs = 20"
   ]
  },
  {
   "cell_type": "code",
   "execution_count": 6,
   "metadata": {},
   "outputs": [
    {
     "name": "stderr",
     "output_type": "stream",
     "text": [
      "epoch 1 iter 98: train loss 7.41059. lr 3.000000e-04 acc 0.12607449856733524: 100%|████| 99/99 [00:42<00:00,  2.32it/s]\n",
      "epoch 2 iter 98: train loss 6.93644. lr 3.000000e-04 acc 0.08042895442359249: 100%|████| 99/99 [00:41<00:00,  2.38it/s]\n",
      "epoch 3 iter 98: train loss 6.51763. lr 3.000000e-04 acc 0.12039312039312039: 100%|████| 99/99 [00:40<00:00,  2.43it/s]\n",
      "epoch 4 iter 98: train loss 6.62802. lr 3.000000e-04 acc 0.11166253101736973: 100%|████| 99/99 [00:39<00:00,  2.53it/s]\n",
      "epoch 5 iter 98: train loss 5.94075. lr 3.000000e-04 acc 0.15639810426540285: 100%|████| 99/99 [00:39<00:00,  2.48it/s]\n",
      "epoch 6 iter 98: train loss 5.52106. lr 3.000000e-04 acc 0.20385674931129477: 100%|████| 99/99 [00:39<00:00,  2.50it/s]\n",
      "epoch 7 iter 98: train loss 4.79947. lr 3.000000e-04 acc 0.2268041237113402: 100%|█████| 99/99 [00:39<00:00,  2.48it/s]\n",
      "epoch 8 iter 98: train loss 4.89603. lr 3.000000e-04 acc 0.18925831202046037: 100%|████| 99/99 [00:40<00:00,  2.42it/s]\n",
      "epoch 9 iter 98: train loss 4.76264. lr 3.000000e-04 acc 0.17787418655097614: 100%|████| 99/99 [00:39<00:00,  2.50it/s]\n",
      "epoch 10 iter 98: train loss 4.04755. lr 3.000000e-04 acc 0.24: 100%|██████████████████| 99/99 [00:39<00:00,  2.50it/s]\n",
      "epoch 11 iter 98: train loss 3.95889. lr 3.000000e-04 acc 0.2713347921225383: 100%|████| 99/99 [00:39<00:00,  2.48it/s]\n",
      "epoch 12 iter 98: train loss 3.52176. lr 3.000000e-04 acc 0.31629392971246006: 100%|███| 99/99 [00:39<00:00,  2.50it/s]\n",
      "epoch 13 iter 98: train loss 2.88105. lr 3.000000e-04 acc 0.43648960739030024: 100%|███| 99/99 [00:39<00:00,  2.52it/s]\n",
      "epoch 14 iter 98: train loss 2.83283. lr 3.000000e-04 acc 0.4262295081967213: 100%|████| 99/99 [00:40<00:00,  2.46it/s]\n",
      "epoch 15 iter 98: train loss 2.18140. lr 3.000000e-04 acc 0.5144508670520231: 100%|████| 99/99 [00:39<00:00,  2.49it/s]\n",
      "epoch 16 iter 98: train loss 2.04734. lr 3.000000e-04 acc 0.5632458233890215: 100%|████| 99/99 [00:39<00:00,  2.49it/s]\n",
      "epoch 17 iter 98: train loss 1.84775. lr 3.000000e-04 acc 0.5798525798525799: 100%|████| 99/99 [00:39<00:00,  2.51it/s]\n",
      "epoch 18 iter 98: train loss 2.04257. lr 3.000000e-04 acc 0.5617433414043583: 100%|████| 99/99 [00:39<00:00,  2.50it/s]\n",
      "epoch 19 iter 98: train loss 1.64410. lr 3.000000e-04 acc 0.5978552278820375: 100%|████| 99/99 [00:39<00:00,  2.50it/s]\n",
      "epoch 20 iter 0: train loss 1.41962. lr 3.000000e-04 acc 0.6853932584269663:   1%|      | 1/99 [00:00<00:41,  2.37it/s]"
     ]
    },
    {
     "name": "stdout",
     "output_type": "stream",
     "text": [
      "y: Hogan isn't the first public official to be criticized for defanging Facebook and other social media.  According to our \n",
      "pred: Hogan isn't Facebook first public of Facebook be criticized and defanging Facebook and technology with media.  At to the \n"
     ]
    },
    {
     "name": "stderr",
     "output_type": "stream",
     "text": [
      "epoch 20 iter 1: train loss 1.02034. lr 3.000000e-04 acc 0.7583892617449665:   2%|      | 2/99 [00:00<00:38,  2.53it/s]"
     ]
    },
    {
     "name": "stdout",
     "output_type": "stream",
     "text": [
      "y: Emphasis on promotion  Advance the formation of a common destiny for humanity  He stressed that the video and \n",
      "pred: Emphasis  promotion  Advance the formation of the common destiny for humanity  In stressed that the video and \n"
     ]
    },
    {
     "name": "stderr",
     "output_type": "stream",
     "text": [
      "epoch 20 iter 2: train loss 1.30302. lr 3.000000e-04 acc 0.6878048780487804:   3%|▏     | 3/99 [00:01<00:38,  2.47it/s]"
     ]
    },
    {
     "name": "stdout",
     "output_type": "stream",
     "text": [
      "y: A fire ripped through one of the world's tallest residential towers in Dubai on Friday, forcing hundreds of occupants to \n",
      "pred: A fire ripped through the has the world's tallest residential towers in Dubai small Friday, forcing hundreds of occupants in \n"
     ]
    },
    {
     "name": "stderr",
     "output_type": "stream",
     "text": [
      "epoch 20 iter 3: train loss 1.07158. lr 3.000000e-04 acc 0.75:   4%|▊                   | 4/99 [00:01<00:38,  2.48it/s]"
     ]
    },
    {
     "name": "stdout",
     "output_type": "stream",
     "text": [
      "y: said that  This is also the true state of survival of many singers at this time - they know \n",
      "pred: said that  This is also the true of of many of many singers in sex for of they themselves \n"
     ]
    },
    {
     "name": "stderr",
     "output_type": "stream",
     "text": [
      "epoch 20 iter 4: train loss 1.55699. lr 3.000000e-04 acc 0.659919028340081:   5%|▎      | 5/99 [00:02<00:38,  2.46it/s]"
     ]
    },
    {
     "name": "stdout",
     "output_type": "stream",
     "text": [
      "y: Eilidh Doyle recalls a time when only two Scots made the GB team  The People’s Bank of China has \n",
      "pred: Eilidh Doyle recalls a time when the two Scots of  GB team  The People’s Bank of China designed \n"
     ]
    },
    {
     "name": "stderr",
     "output_type": "stream",
     "text": [
      "epoch 20 iter 5: train loss 1.22726. lr 3.000000e-04 acc 0.7162162162162162:   6%|▎     | 6/99 [00:02<00:36,  2.51it/s]"
     ]
    },
    {
     "name": "stdout",
     "output_type": "stream",
     "text": [
      "y: Pearson cuts another 3,000 jobs, slashes dividend to revive business  Today, an explosion in a chemical plant occurred in \n",
      "pred: Pearson cuts another 3,000 jobs, slashes dividend to revive and and Today, has explosion in Fuji chemical plant in in \n"
     ]
    },
    {
     "name": "stderr",
     "output_type": "stream",
     "text": [
      "epoch 20 iter 6: train loss 1.31176. lr 3.000000e-04 acc 0.6867749419953596:   7%|▍     | 7/99 [00:02<00:36,  2.49it/s]"
     ]
    },
    {
     "name": "stdout",
     "output_type": "stream",
     "text": [
      "y: to safeguard their rights and interests and make greater efforts to promote the cause of socialism with Chinese characteristics in \n",
      "pred: Under safeguard and rights and the efforts make the in to realize the cause of the and the characteristics in \n"
     ]
    },
    {
     "name": "stderr",
     "output_type": "stream",
     "text": [
      "epoch 20 iter 7: train loss 1.23840. lr 3.000000e-04 acc 0.6957746478873239:   8%|▍     | 8/99 [00:03<00:36,  2.51it/s]"
     ]
    },
    {
     "name": "stdout",
     "output_type": "stream",
     "text": [
      "y: Pistorius claimed he mistook his girlfriend for a nighttime intruder hiding in the cubicle.  A union is seeking reassurance \n",
      "pred: Pistorius claimed to mistook it's girlfriend in the nighttime intruder hiding Trump the cubicle.  A union at seeking reassurance \n"
     ]
    },
    {
     "name": "stderr",
     "output_type": "stream",
     "text": [
      "epoch 20 iter 8: train loss 1.47601. lr 3.000000e-04 acc 0.6132723112128147:   9%|▌     | 9/99 [00:03<00:36,  2.48it/s]"
     ]
    },
    {
     "name": "stdout",
     "output_type": "stream",
     "text": [
      "y: Intensifying the basic construction for farmland water conservancy is an urgent requirement and basic guarantee for deepening the structural reform \n",
      "pred: Intensifying and basic construction for farmland water conservancy of structural urgent requirement and basic guarantee and deepening the construction reform \n"
     ]
    },
    {
     "name": "stderr",
     "output_type": "stream",
     "text": [
      "epoch 20 iter 9: train loss 1.39964. lr 3.000000e-04 acc 0.6442953020134228:  10%|▌    | 10/99 [00:04<00:37,  2.40it/s]"
     ]
    },
    {
     "name": "stdout",
     "output_type": "stream",
     "text": [
      "y: It is the first such warning that the organization has issued for a state in the US.  During the \n",
      "pred: This is an organization for warning that the organization is made for a report in the US.  On the \n"
     ]
    },
    {
     "name": "stderr",
     "output_type": "stream",
     "text": [
      "epoch 20 iter 10: train loss 1.41683. lr 3.000000e-04 acc 0.6786632390745502:  11%|▍   | 11/99 [00:04<00:35,  2.45it/s]"
     ]
    },
    {
     "name": "stdout",
     "output_type": "stream",
     "text": [
      "y: On the second day after the conclusion of the 19th Party Congress, Xi Jinping presided over the first meeting of \n",
      "pred: The the Chief Zhang of of conclusion of the 19th CPC of the Jinping presided over the Military meeting of \n"
     ]
    },
    {
     "name": "stderr",
     "output_type": "stream",
     "text": [
      "epoch 20 iter 11: train loss 1.45790. lr 3.000000e-04 acc 0.6641414141414141:  12%|▍   | 12/99 [00:04<00:35,  2.48it/s]"
     ]
    },
    {
     "name": "stdout",
     "output_type": "stream",
     "text": [
      "y: Wang Zhidong, the lawyer representing the family of Zhang Yingying said that the family expressed relief at the decision made \n",
      "pred: Wang Zhidong, the Attorney representing of Attorney of the Yingying said that the Attorney Deputy relief Attorney the family and \n"
     ]
    },
    {
     "name": "stderr",
     "output_type": "stream",
     "text": [
      "epoch 20 iter 12: train loss 1.34905. lr 3.000000e-04 acc 0.710594315245478:  13%|▋    | 13/99 [00:05<00:34,  2.51it/s]"
     ]
    },
    {
     "name": "stdout",
     "output_type": "stream",
     "text": [
      "y: The company said it surveyed travellers around the country to find out how many had accidentally brought contraband through airport \n",
      "pred: The company said it surveyed its to the company to find of how many had accidentally brought contraband to airport \n"
     ]
    },
    {
     "name": "stderr",
     "output_type": "stream",
     "text": [
      "epoch 20 iter 13: train loss 1.26243. lr 3.000000e-04 acc 0.7088948787061995:  14%|▌   | 14/99 [00:05<00:33,  2.52it/s]"
     ]
    },
    {
     "name": "stdout",
     "output_type": "stream",
     "text": [
      "y: Vice Chairman Chen Zhu presided over the meeting.  has become an important platform for maintaining regional security and stability \n",
      "pred: Vice Chairman Chen Zhu presided over the meeting.  has become an important and and maintaining regional to and development \n"
     ]
    },
    {
     "name": "stderr",
     "output_type": "stream",
     "text": [
      "epoch 20 iter 14: train loss 1.31496. lr 3.000000e-04 acc 0.6958904109589041:  15%|▌   | 15/99 [00:06<00:34,  2.45it/s]"
     ]
    },
    {
     "name": "stdout",
     "output_type": "stream",
     "text": [
      "y: to divide the 412.5 meters long, 12.9 meters wide, with a total weight of 15,000 tons of continuous beams into \n",
      "pred: I divide the 412.5 meters long, 12.9 meters wide, of a total weight of 15,000 tons the continuous beams into \n"
     ]
    },
    {
     "name": "stderr",
     "output_type": "stream",
     "text": [
      "epoch 20 iter 15: train loss 1.29317. lr 3.000000e-04 acc 0.6972010178117048:  16%|▋   | 16/99 [00:06<00:33,  2.47it/s]"
     ]
    },
    {
     "name": "stdout",
     "output_type": "stream",
     "text": [
      "y: The report in the journal Current Biology described it as 'the best-preserved armored dinosaur ever found, and one of the \n",
      "pred: The World that the journal Current Biology journal to is possible. best-preserved armored dinosaur ever found, and the place the \n"
     ]
    },
    {
     "name": "stderr",
     "output_type": "stream",
     "text": [
      "epoch 20 iter 16: train loss 1.33411. lr 3.000000e-04 acc 0.70276008492569:  17%|█     | 17/99 [00:06<00:34,  2.41it/s]"
     ]
    },
    {
     "name": "stdout",
     "output_type": "stream",
     "text": [
      "y: Wang Huning, member of the Standing Committee of the Political Bureau of the CPC Central Committee and Secretary of the \n",
      "pred: Wang Huning, member of the Standing Committee of the Political Bureau of the Political Central Committee and Secretary of the \n"
     ]
    },
    {
     "name": "stderr",
     "output_type": "stream",
     "text": [
      "epoch 20 iter 17: train loss 1.20811. lr 3.000000e-04 acc 0.7032258064516129:  18%|▋   | 18/99 [00:07<00:32,  2.47it/s]"
     ]
    },
    {
     "name": "stdout",
     "output_type": "stream",
     "text": [
      "y: \"So never shut up.\"  and turn the spirit of the Nineteenth Congress and the goals into a common understanding \n",
      "pred: \"So never shut up.\"  and From the 19th of the 19th and and the goals and a and understanding \n"
     ]
    },
    {
     "name": "stderr",
     "output_type": "stream",
     "text": [
      "epoch 20 iter 18: train loss 1.10887. lr 3.000000e-04 acc 0.7274939172749392:  19%|▊   | 19/99 [00:07<00:32,  2.47it/s]"
     ]
    },
    {
     "name": "stdout",
     "output_type": "stream",
     "text": [
      "y: Guo Shengkun, You Quan, Arken Imirbaki, Wang Zhengwei and Wang Zhizhen attended the opening ceremony.  At 17:10 today, the \n",
      "pred: Guo Shengkun, You Quan, Arken Imirbaki, Wang Zhizhen and Wang Zhizhen attended the opening ceremony.  Today, 17:10 today, simple \n"
     ]
    },
    {
     "name": "stderr",
     "output_type": "stream",
     "text": [
      "epoch 20 iter 19: train loss 1.38749. lr 3.000000e-04 acc 0.6599326599326599:  20%|▊   | 20/99 [00:08<00:31,  2.53it/s]"
     ]
    },
    {
     "name": "stdout",
     "output_type": "stream",
     "text": [
      "y: \"What?!,\" Rascona asked.  First there was the publication in February of an interview with Damaso Lopez, a leader of \n",
      "pred: \"What?!,\" Rascona asked.  First in with the publication in February of the interview with Damaso Lopez, with leader of \n"
     ]
    },
    {
     "name": "stderr",
     "output_type": "stream",
     "text": [
      "epoch 20 iter 20: train loss 1.46019. lr 3.000000e-04 acc 0.655893536121673:  21%|█    | 21/99 [00:08<00:31,  2.51it/s]"
     ]
    },
    {
     "name": "stdout",
     "output_type": "stream",
     "text": [
      "y: We must also create more opportunities for the world by promoting China's development.  A spokeswoman for Solihull Council said: \n",
      "pred: We should China's create that opportunities for the world to promoting China's development. and A spokeswoman for Solihull for said: \n"
     ]
    },
    {
     "name": "stderr",
     "output_type": "stream",
     "text": [
      "epoch 20 iter 21: train loss 1.40351. lr 3.000000e-04 acc 0.65:  22%|████              | 22/99 [00:08<00:30,  2.51it/s]"
     ]
    },
    {
     "name": "stdout",
     "output_type": "stream",
     "text": [
      "y: The outcome was a surprise. That day, transactions at Taobao Mall (the predecessor of “Tmall”) surpassed RMB52 million, 10 times \n",
      "pred: The 30th was a surprise. than of transactions a Taobao Mall (the predecessor of “Tmall”) surpassed RMB52 of a on \n"
     ]
    },
    {
     "name": "stderr",
     "output_type": "stream",
     "text": [
      "epoch 20 iter 22: train loss 1.44137. lr 3.000000e-04 acc 0.6597701149425287:  23%|▉   | 23/99 [00:09<00:30,  2.49it/s]"
     ]
    },
    {
     "name": "stdout",
     "output_type": "stream",
     "text": [
      "y: Over the past 10 years, China has become more and more innovative and has demonstrated its determination to protect intellectual \n",
      "pred: Over the past 10 years, China years, become more innovative more innovative and the demonstrated more determination to protect intellectual \n"
     ]
    },
    {
     "name": "stderr",
     "output_type": "stream",
     "text": [
      "epoch 20 iter 23: train loss 1.33183. lr 3.000000e-04 acc 0.7089552238805971:  24%|▉   | 24/99 [00:09<00:30,  2.49it/s]"
     ]
    },
    {
     "name": "stdout",
     "output_type": "stream",
     "text": [
      "y: Next up, a look at international news.  Scottish Athletics think it's something to do with what they've done.  \n",
      "pred: Next up, a look at international news.  Scottish Athletics think it's something to do with what they've done.  \n"
     ]
    },
    {
     "name": "stderr",
     "output_type": "stream",
     "text": [
      "epoch 20 iter 24: train loss 1.35445. lr 3.000000e-04 acc 0.6699029126213593:  25%|█   | 25/99 [00:10<00:29,  2.47it/s]"
     ]
    },
    {
     "name": "stdout",
     "output_type": "stream",
     "text": [
      "y: The residents sector accounts for an increasing share of the total debt in the real economy, and the leverage ratio \n",
      "pred: This residents sector accounts of the increasing and of the countries debt sector the leverage economy, and the leverage ratio \n"
     ]
    },
    {
     "name": "stderr",
     "output_type": "stream",
     "text": [
      "epoch 20 iter 25: train loss 1.29119. lr 3.000000e-04 acc 0.6888888888888889:  26%|█   | 26/99 [00:10<00:29,  2.50it/s]"
     ]
    },
    {
     "name": "stdout",
     "output_type": "stream",
     "text": [
      "y: No one forgets the death six years ago of blogger Maria Elizabeth Macias in the northern border state of Tamaulipas. \n",
      "pred: No Russian forgets the death of six ago the blogger Maria Elizabeth Macias in the northern border state  Tamaulipas. \n"
     ]
    },
    {
     "name": "stderr",
     "output_type": "stream",
     "text": [
      "epoch 20 iter 26: train loss 1.38809. lr 3.000000e-04 acc 0.6801470588235294:  27%|█   | 27/99 [00:10<00:28,  2.56it/s]"
     ]
    },
    {
     "name": "stdout",
     "output_type": "stream",
     "text": [
      "y: Our agents in Zhejiang Province have a saying that goes  Polygamy is common here.  Yang Shilin, who left \n",
      "pred: The agents of Zhejiang have as a Zhejiang that goes  Polygamy the common here.  Yang Shilin, who have \n"
     ]
    },
    {
     "name": "stderr",
     "output_type": "stream",
     "text": [
      "epoch 20 iter 27: train loss 1.34442. lr 3.000000e-04 acc 0.6871508379888268:  28%|█▏  | 28/99 [00:11<00:28,  2.53it/s]"
     ]
    },
    {
     "name": "stdout",
     "output_type": "stream",
     "text": [
      "y: Gilberto Rodriguez Orejuela (Damian Alcazar) is the cartel's leader, Miguel Rodriguez Orejuela (Francisco Denis) being the brains, Pacho Herrera (Alberto \n",
      "pred: Gilberto Rodriguez Orejuela (Damian Alcazar) from the cartel's leader, Miguel Rodriguez Orejuela (Francisco Denis) being the Mexican Pacho Herrera (Alberto \n"
     ]
    },
    {
     "name": "stderr",
     "output_type": "stream",
     "text": [
      "epoch 20 iter 28: train loss 1.26991. lr 3.000000e-04 acc 0.7107692307692308:  29%|█▏  | 29/99 [00:11<00:27,  2.58it/s]"
     ]
    },
    {
     "name": "stdout",
     "output_type": "stream",
     "text": [
      "y: The town of some 19,000 people consists of wooden houses ringed by bamboo fencing, corrugated iron roofs transformed by rust \n",
      "pred: The town of which 19,000 people consists of wooden houses ringed with bamboo fencing, corrugated iron roofs transformed  rust \n"
     ]
    },
    {
     "name": "stderr",
     "output_type": "stream",
     "text": [
      "epoch 20 iter 29: train loss 1.33626. lr 3.000000e-04 acc 0.6805555555555556:  30%|█▏  | 30/99 [00:12<00:27,  2.51it/s]"
     ]
    },
    {
     "name": "stdout",
     "output_type": "stream",
     "text": [
      "y: The fossil he uncovered was sent to the Royal Tyrrell Museum of Paleontology.  The artist and her incarcerated muse \n",
      "pred: The fossil of uncovered on evacuated, a the Royal Tyrrell Museum of Paleontology.  The fourth that her incarcerated muse \n"
     ]
    },
    {
     "name": "stderr",
     "output_type": "stream",
     "text": [
      "epoch 20 iter 30: train loss 1.35689. lr 3.000000e-04 acc 0.6866485013623979:  31%|█▎  | 31/99 [00:12<00:26,  2.52it/s]"
     ]
    },
    {
     "name": "stdout",
     "output_type": "stream",
     "text": [
      "y: Brazilian President Ditmeyer said in greetings , “I would like to extend my warm congratulations on your re-election as general \n",
      "pred: Brazilian President Ditmeyer said in November , “I in from in extend to warm congratulations to your re-election your the \n"
     ]
    },
    {
     "name": "stderr",
     "output_type": "stream",
     "text": [
      "epoch 20 iter 31: train loss 1.46703. lr 3.000000e-04 acc 0.6666666666666666:  32%|█▎  | 32/99 [00:12<00:26,  2.52it/s]"
     ]
    },
    {
     "name": "stdout",
     "output_type": "stream",
     "text": [
      "y: Her body was found along with a note purportedly signed by the Zetas cartel: \"Here I am because of my \n",
      "pred: Her body was not along the the note purportedly was saying the Zetas cartel: \"Here of am because was my \n"
     ]
    },
    {
     "name": "stderr",
     "output_type": "stream",
     "text": [
      "epoch 20 iter 32: train loss 1.19636. lr 3.000000e-04 acc 0.7142857142857143:  33%|█▎  | 33/99 [00:13<00:26,  2.49it/s]"
     ]
    },
    {
     "name": "stdout",
     "output_type": "stream",
     "text": [
      "y: On its website, True Companion likened Roxxxy to a vibrator, but for men.  The Decision pointed out that we \n",
      "pred: On the website, True Companion likened Roxxxy to ensure vibrator, for for men.  The report pointed out that that \n"
     ]
    },
    {
     "name": "stderr",
     "output_type": "stream",
     "text": [
      "epoch 20 iter 33: train loss 1.11935. lr 3.000000e-04 acc 0.7623762376237624:  34%|█▎  | 34/99 [00:13<00:25,  2.54it/s]"
     ]
    },
    {
     "name": "stdout",
     "output_type": "stream",
     "text": [
      "y: In fact, like Joanne, you may choose not to leave.  Making Mitt Romney seem the epitome of common sense \n",
      "pred: To fact, like Joanne, you may choose to for leave.  Making Mitt Romney seem to epitome of common sense \n"
     ]
    },
    {
     "name": "stderr",
     "output_type": "stream",
     "text": [
      "epoch 20 iter 34: train loss 1.47867. lr 3.000000e-04 acc 0.6560364464692483:  35%|█▍  | 35/99 [00:14<00:25,  2.48it/s]"
     ]
    },
    {
     "name": "stdout",
     "output_type": "stream",
     "text": [
      "y: From the 19th National People’s Congress to the completion of the establishment of the county and city commission, whether Dandong \n",
      "pred: The the 19th National Congress Congress of the completion that the county of the county and most commission, of Dandong \n"
     ]
    },
    {
     "name": "stderr",
     "output_type": "stream",
     "text": [
      "epoch 20 iter 35: train loss 1.56201. lr 3.000000e-04 acc 0.6328293736501079:  36%|█▍  | 36/99 [00:14<00:25,  2.47it/s]"
     ]
    },
    {
     "name": "stdout",
     "output_type": "stream",
     "text": [
      "y: stepped up the transformation and development of this enterprise.  Valdez's office has been repurposed as a storage room for \n",
      "pred: stepped up the transformation on development of the enterprise.  By say of been repurposed in a storage room for \n"
     ]
    },
    {
     "name": "stderr",
     "output_type": "stream",
     "text": [
      "epoch 20 iter 36: train loss 1.65282. lr 3.000000e-04 acc 0.6352941176470588:  37%|█▍  | 37/99 [00:14<00:25,  2.46it/s]"
     ]
    },
    {
     "name": "stdout",
     "output_type": "stream",
     "text": [
      "y: Some were in the '90s and in early 2000s.  While the goal wasn't to focus on Ferrell's experience - \n",
      "pred: Some of in the '90s and in '90s 2000s.  While of governor's wasn't said focus to Ferrell's experience - \n"
     ]
    },
    {
     "name": "stderr",
     "output_type": "stream",
     "text": [
      "epoch 20 iter 37: train loss 1.49164. lr 3.000000e-04 acc 0.6725:  38%|██████▏         | 38/99 [00:15<00:24,  2.46it/s]"
     ]
    },
    {
     "name": "stdout",
     "output_type": "stream",
     "text": [
      "y: It all just came.\"  This event will be his first Scottish appearance since the Aberdeen Asset Management Scottish Open \n",
      "pred: What is shortcomings. came.\"  This he was be his first Scottish appearance his his Aberdeen Asset Management Scottish Open \n"
     ]
    },
    {
     "name": "stderr",
     "output_type": "stream",
     "text": [
      "epoch 20 iter 38: train loss 1.36641. lr 3.000000e-04 acc 0.6934306569343066:  39%|█▌  | 39/99 [00:15<00:24,  2.43it/s]"
     ]
    },
    {
     "name": "stdout",
     "output_type": "stream",
     "text": [
      "y: Responsible comrades of the National people's Congress and the Ministry of Public Security took part in the swearing-in.  At \n",
      "pred: Responsible comrades of the Ministry people's Congress and Chen Ministry of Public Security in  in the swearing-in.  Xi \n"
     ]
    },
    {
     "name": "stderr",
     "output_type": "stream",
     "text": [
      "epoch 20 iter 39: train loss 1.32440. lr 3.000000e-04 acc 0.6976047904191617:  40%|█▌  | 40/99 [00:16<00:24,  2.45it/s]"
     ]
    },
    {
     "name": "stdout",
     "output_type": "stream",
     "text": [
      "y: The survey of more than 1000 people - which was conducted by a jet-chartering service Stratos Jet Charters Inc. - \n",
      "pred: The survey of the than 1000 people - which the conducted by the jet-chartering which Stratos Jet Charters Inc. - \n"
     ]
    },
    {
     "name": "stderr",
     "output_type": "stream",
     "text": [
      "epoch 20 iter 40: train loss 1.32448. lr 3.000000e-04 acc 0.7:  41%|███████▊           | 41/99 [00:16<00:23,  2.44it/s]"
     ]
    },
    {
     "name": "stdout",
     "output_type": "stream",
     "text": [
      "y: However, Judge Lawrence Moniz said he did not find that her \"age or level of maturity or even her mental \n",
      "pred: However, she Lawrence Moniz said he did not find to he \"age or even of maturity or even the mental \n"
     ]
    },
    {
     "name": "stderr",
     "output_type": "stream",
     "text": [
      "epoch 20 iter 41: train loss 1.63722. lr 3.000000e-04 acc 0.6354916067146283:  42%|█▋  | 42/99 [00:16<00:23,  2.43it/s]"
     ]
    },
    {
     "name": "stdout",
     "output_type": "stream",
     "text": [
      "y: Meanwhile, the Republican National Committee released a statement Thursday night saying \"Governor Justice's party switch is another blow to a \n",
      "pred: Meanwhile, the Republican National Congress, to the statement Thursday night saying \"Governor Justice's party switch is a blow to the \n"
     ]
    },
    {
     "name": "stderr",
     "output_type": "stream",
     "text": [
      "epoch 20 iter 42: train loss 1.29935. lr 3.000000e-04 acc 0.6957671957671958:  43%|█▋  | 43/99 [00:17<00:22,  2.48it/s]"
     ]
    },
    {
     "name": "stdout",
     "output_type": "stream",
     "text": [
      "y: So many of the cliches of a city disappoint: views from tall buildings get old, skylines grow too familiar to \n",
      "pred: So many of the cliches of a city disappoint: buildings from tall buildings get old, skylines grow since familiar to \n"
     ]
    },
    {
     "name": "stderr",
     "output_type": "stream",
     "text": [
      "epoch 20 iter 43: train loss 1.33580. lr 3.000000e-04 acc 0.7309782608695652:  44%|█▊  | 44/99 [00:17<00:22,  2.48it/s]"
     ]
    },
    {
     "name": "stdout",
     "output_type": "stream",
     "text": [
      "y: Manning sent the clippings from the Fort Leavenworth prison, where the former intelligence analyst was serving a 35-year sentence after \n",
      "pred: Manning the the clippings of the Fort Leavenworth prison, intelligence the environmental intelligence analyst who a a 35-year sentence on \n"
     ]
    },
    {
     "name": "stderr",
     "output_type": "stream",
     "text": [
      "epoch 20 iter 44: train loss 1.41615. lr 3.000000e-04 acc 0.656:  45%|███████▋         | 45/99 [00:18<00:21,  2.52it/s]"
     ]
    },
    {
     "name": "stdout",
     "output_type": "stream",
     "text": [
      "y: Han Changfu said  In response to climate change, no country can stay out of the question.  “Tofu”, a \n",
      "pred: Han Changfu said  I the to climate change, no with with stay out of the question.  “Tofu”, the \n"
     ]
    },
    {
     "name": "stderr",
     "output_type": "stream",
     "text": [
      "epoch 20 iter 45: train loss 1.39892. lr 3.000000e-04 acc 0.6629464285714286:  46%|█▊  | 46/99 [00:18<00:21,  2.49it/s]"
     ]
    },
    {
     "name": "stdout",
     "output_type": "stream",
     "text": [
      "y: Her statue speaks back to them the words of hope and welcome they need to hear.  Zhang Dejiang reported \n",
      "pred: Her statue speaks back to the a words of the - welcome they them to hear.  Zhang Dejiang the \n"
     ]
    },
    {
     "name": "stderr",
     "output_type": "stream",
     "text": [
      "epoch 20 iter 46: train loss 1.36302. lr 3.000000e-04 acc 0.6768802228412256:  47%|█▉  | 47/99 [00:18<00:20,  2.51it/s]"
     ]
    },
    {
     "name": "stdout",
     "output_type": "stream",
     "text": [
      "y: Both Glint and Convercent offer their software as a service, charging companies recurring fees to use their products.  A \n",
      "pred: Both Glint as Convercent offer our software as a service, charging from recurring fees by the products. products.  A \n"
     ]
    },
    {
     "name": "stderr",
     "output_type": "stream",
     "text": [
      "epoch 20 iter 47: train loss 1.32848. lr 3.000000e-04 acc 0.683083511777302:  48%|██▍  | 48/99 [00:19<00:20,  2.50it/s]"
     ]
    },
    {
     "name": "stdout",
     "output_type": "stream",
     "text": [
      "y: He's also been pretty deft at using Facebook as a primary means to connect with his constituents, playfully debuting his \n",
      "pred: He also published pretty deft with his Facebook with a fact-checking to to connect with his constituents, playfully debuting his \n"
     ]
    },
    {
     "name": "stderr",
     "output_type": "stream",
     "text": [
      "epoch 20 iter 48: train loss 1.49010. lr 3.000000e-04 acc 0.6658415841584159:  49%|█▉  | 49/99 [00:19<00:19,  2.50it/s]"
     ]
    },
    {
     "name": "stdout",
     "output_type": "stream",
     "text": [
      "y: This shows that countries that account for the global majority (53%, more than half) are still indecisive about the legitimacy \n",
      "pred: The shows that account that the that the countries majority (53%, is than half) account still indecisive of the legitimacy \n"
     ]
    },
    {
     "name": "stderr",
     "output_type": "stream",
     "text": [
      "epoch 20 iter 49: train loss 1.55235. lr 3.000000e-04 acc 0.6275510204081632:  51%|██  | 50/99 [00:20<00:19,  2.52it/s]"
     ]
    },
    {
     "name": "stdout",
     "output_type": "stream",
     "text": [
      "y: Apple said that “the partnership with Guizhou-Cloud will allow us improve the speed and reliability of our iCloud services products \n",
      "pred: The said that “the partnership services Guizhou-Cloud will allow us improve to speed to reliability monitoring our iCloud our once \n"
     ]
    },
    {
     "name": "stderr",
     "output_type": "stream",
     "text": [
      "epoch 20 iter 50: train loss 1.42042. lr 3.000000e-04 acc 0.6302325581395349:  52%|██  | 51/99 [00:20<00:19,  2.53it/s]"
     ]
    },
    {
     "name": "stdout",
     "output_type": "stream",
     "text": [
      "y: We thank Pakistan for its security guarantee provided to Chinese enterprises and citizens in Pakistan.  The Hatch Act prohibits \n",
      "pred: Pakistan thank Pakistan security the security guarantee provided and promote enterprises. to citizens in Pakistan.  The Hatch Act prohibits \n"
     ]
    },
    {
     "name": "stderr",
     "output_type": "stream",
     "text": [
      "epoch 20 iter 51: train loss 1.26917. lr 3.000000e-04 acc 0.7058823529411765:  53%|██  | 52/99 [00:20<00:18,  2.50it/s]"
     ]
    },
    {
     "name": "stdout",
     "output_type": "stream",
     "text": [
      "y: donated all the prize money he has received from the Lv Zhihe Award and the Sustaining Development Award of HK$20 \n",
      "pred: donated Chinese the prize from released from from from the Lv Zhihe Award and cooperation Lv of Award of HK$20 \n"
     ]
    },
    {
     "name": "stderr",
     "output_type": "stream",
     "text": [
      "epoch 20 iter 52: train loss 1.70501. lr 3.000000e-04 acc 0.610655737704918:  54%|██▋  | 53/99 [00:21<00:18,  2.49it/s]"
     ]
    },
    {
     "name": "stdout",
     "output_type": "stream",
     "text": [
      "y: so that they won’t lag behind in the journey of building a moderately prosperous society in all respects.  PSG \n",
      "pred: To that they won’t lag behind in the journey they building a moderately prosperous society in the respects.  PSG \n"
     ]
    },
    {
     "name": "stderr",
     "output_type": "stream",
     "text": [
      "epoch 20 iter 53: train loss 1.24677. lr 3.000000e-04 acc 0.7275985663082437:  55%|██▏ | 54/99 [00:21<00:17,  2.51it/s]"
     ]
    },
    {
     "name": "stdout",
     "output_type": "stream",
     "text": [
      "y: As with most of the thousands of murders tied to drug trafficking and organized crime each year, the killers of \n",
      "pred: As well wasn't organizations the past of murders tied to drug trafficking and Trump's crime are year, the killers of \n"
     ]
    },
    {
     "name": "stderr",
     "output_type": "stream",
     "text": [
      "epoch 20 iter 54: train loss 1.49613. lr 3.000000e-04 acc 0.6657608695652174:  56%|██▏ | 55/99 [00:22<00:17,  2.48it/s]"
     ]
    },
    {
     "name": "stdout",
     "output_type": "stream",
     "text": [
      "y: They were in separate rooms at ESPN offices in Los Angeles until Garcia, the unbeaten World Boxing Council lightweight champion, \n",
      "pred: A Judge allowed separate rooms manager ESPN offices are Los Angeles our Garcia, the hallway of Boxing of lightweight champion, \n"
     ]
    },
    {
     "name": "stderr",
     "output_type": "stream",
     "text": [
      "epoch 20 iter 55: train loss 1.55411. lr 3.000000e-04 acc 0.6372549019607843:  57%|██▎ | 56/99 [00:22<00:17,  2.51it/s]"
     ]
    },
    {
     "name": "stdout",
     "output_type": "stream",
     "text": [
      "y: British education group Pearson said on Friday it would cut another 3,000 jobs and slash its interim dividend by 72 \n",
      "pred: British education group Pearson Pearson that Friday that was cut in 3,000 jobs and slash its interim dividend that 72 \n"
     ]
    },
    {
     "name": "stderr",
     "output_type": "stream",
     "text": [
      "epoch 20 iter 56: train loss 1.51936. lr 3.000000e-04 acc 0.6452380952380953:  58%|██▎ | 57/99 [00:22<00:16,  2.52it/s]"
     ]
    },
    {
     "name": "stdout",
     "output_type": "stream",
     "text": [
      "y: The case drew national attention after Carter's text messages revealed she had encouraged him to end his life.  We \n",
      "pred: The change drew she attention after Carter's text messages put he was encouraged his his end his life.  We \n"
     ]
    },
    {
     "name": "stderr",
     "output_type": "stream",
     "text": [
      "epoch 20 iter 57: train loss 1.53998. lr 3.000000e-04 acc 0.6426666666666667:  59%|██▎ | 58/99 [00:23<00:16,  2.53it/s]"
     ]
    },
    {
     "name": "stdout",
     "output_type": "stream",
     "text": [
      "y: Facebook has been criticized as being one of the main distribution points for so-called fake news, which many think influenced \n",
      "pred: The a been criticized been a a of the share distribution which in so-called fake news, through the think influenced \n"
     ]
    },
    {
     "name": "stderr",
     "output_type": "stream",
     "text": [
      "epoch 20 iter 58: train loss 1.33687. lr 3.000000e-04 acc 0.6810551558752997:  60%|██▍ | 59/99 [00:23<00:15,  2.51it/s]"
     ]
    },
    {
     "name": "stdout",
     "output_type": "stream",
     "text": [
      "y: The guidance price of RMB1,499 was RMB200 higher than the previous retail price of RMB1,299.  A Beijing News reporter \n",
      "pred: The sculpture price of RMB1,499 for RMB200 of than a previous retail price of RMB1,299.  The question News reporter \n"
     ]
    },
    {
     "name": "stderr",
     "output_type": "stream",
     "text": [
      "epoch 20 iter 59: train loss 1.52837. lr 3.000000e-04 acc 0.6836734693877551:  61%|██▍ | 60/99 [00:24<00:15,  2.51it/s]"
     ]
    },
    {
     "name": "stdout",
     "output_type": "stream",
     "text": [
      "y: The report claimed that the only way to prove effectiveness is to carry out tests. Currently, there are no arrangements \n",
      "pred: In report claimed that no problem it to prove effectiveness would a prove out tests. Currently, or little no arrangements \n"
     ]
    },
    {
     "name": "stderr",
     "output_type": "stream",
     "text": [
      "epoch 20 iter 60: train loss 1.44753. lr 3.000000e-04 acc 0.6551724137931034:  62%|██▍ | 61/99 [00:24<00:15,  2.51it/s]"
     ]
    },
    {
     "name": "stdout",
     "output_type": "stream",
     "text": [
      "y: Foreign parties spoke highly of General Secretary Xi Jinping's keynote speech at the dialog meeting.  Russia’s Ministry of Trade \n",
      "pred: Foreign parties spoke highly of a Secretary Xi Jinping keynote speech at the dialog   Russia’s Ministry of Trade \n"
     ]
    },
    {
     "name": "stderr",
     "output_type": "stream",
     "text": [
      "epoch 20 iter 61: train loss 1.37889. lr 3.000000e-04 acc 0.6756756756756757:  63%|██▌ | 62/99 [00:24<00:14,  2.50it/s]"
     ]
    },
    {
     "name": "stdout",
     "output_type": "stream",
     "text": [
      "y: Dubai's civil defence authorities said firefighting squads put out the blaze at around 4.00 am local time (0000 GMT) and \n",
      "pred: Dubai's civil defence authorities said firefighting squads after out the blaze at the 4.00 in the and (0000 GMT) and \n"
     ]
    },
    {
     "name": "stderr",
     "output_type": "stream",
     "text": [
      "epoch 20 iter 62: train loss 1.52611. lr 3.000000e-04 acc 0.6563981042654028:  64%|██▌ | 63/99 [00:25<00:14,  2.53it/s]"
     ]
    },
    {
     "name": "stdout",
     "output_type": "stream",
     "text": [
      "y: \"Like it or not like it, the Democrats walked away from me,\" Gov. Justice said.  This is what the \n",
      "pred: \"Like it is not like it, the Democrats walked away from me,\" Gov. to said.  This is what the \n"
     ]
    },
    {
     "name": "stderr",
     "output_type": "stream",
     "text": [
      "epoch 20 iter 63: train loss 1.48826. lr 3.000000e-04 acc 0.6722689075630253:  65%|██▌ | 64/99 [00:25<00:13,  2.51it/s]"
     ]
    },
    {
     "name": "stdout",
     "output_type": "stream",
     "text": [
      "y: When meeting with Aripov, Li Keqiang said President Xi Jinping held a meeting with President Mirziyoyev, who has visited China \n",
      "pred: When meeting with Aripov, Li Keqiang said President of Jinping at in meeting with Aripov, Mirziyoyev, of was visited Chairman \n"
     ]
    },
    {
     "name": "stderr",
     "output_type": "stream",
     "text": [
      "epoch 20 iter 64: train loss 1.41276. lr 3.000000e-04 acc 0.6936416184971098:  66%|██▋ | 65/99 [00:26<00:13,  2.52it/s]"
     ]
    },
    {
     "name": "stdout",
     "output_type": "stream",
     "text": [
      "y: The rally erupted in cheers.  The District Council of Catalonia Autonomous Region unilaterally declared independence on October 27.  \n",
      "pred: The rally erupted erupted cheers.  The District of free Catalonia Council Region unilaterally declared independence on October 27.  \n"
     ]
    },
    {
     "name": "stderr",
     "output_type": "stream",
     "text": [
      "epoch 20 iter 65: train loss 1.34168. lr 3.000000e-04 acc 0.6934984520123839:  67%|██▋ | 66/99 [00:26<00:12,  2.56it/s]"
     ]
    },
    {
     "name": "stdout",
     "output_type": "stream",
     "text": [
      "y: In a Maternal and Child Health Hospital in Longgang District, Shenzhen City, in the early morning, there were dozens of \n",
      "pred: In the Maternal year, Child Health Hospital is early District, Shenzhen City, in the early morning, there was dozens of \n"
     ]
    },
    {
     "name": "stderr",
     "output_type": "stream",
     "text": [
      "epoch 20 iter 66: train loss 1.36623. lr 3.000000e-04 acc 0.68:  68%|████████████▏     | 67/99 [00:26<00:12,  2.57it/s]"
     ]
    },
    {
     "name": "stdout",
     "output_type": "stream",
     "text": [
      "y: What are the practical difficulties?  It was often an intimidating and uncomfortable experience, said James Vitrano, Ruby Tuesday's general \n",
      "pred: What are the practical difficulties?  The is found said intimidating by uncomfortable experience, said he Vitrano, Ruby Tuesday's its \n"
     ]
    },
    {
     "name": "stderr",
     "output_type": "stream",
     "text": [
      "epoch 20 iter 67: train loss 1.30995. lr 3.000000e-04 acc 0.7075:  69%|██████████▉     | 68/99 [00:27<00:12,  2.53it/s]"
     ]
    },
    {
     "name": "stdout",
     "output_type": "stream",
     "text": [
      "y: \"Eilidh is slightly modest.  Climate change can destroy a large number of species in an irreversible manner, including resources \n",
      "pred: \"Eilidh is slightly modest.  Climate change can destroy have large number of species in real irreversible manner, resources resources \n"
     ]
    },
    {
     "name": "stderr",
     "output_type": "stream",
     "text": [
      "epoch 20 iter 68: train loss 1.53771. lr 3.000000e-04 acc 0.6799065420560748:  70%|██▊ | 69/99 [00:27<00:11,  2.52it/s]"
     ]
    },
    {
     "name": "stdout",
     "output_type": "stream",
     "text": [
      "y: Ibarra - who once wanted to be a poet - admits that covering the drug trade scares him.  on \n",
      "pred: Ibarra - - also is his be a poet - admits to covering his drug - scares him.  The \n"
     ]
    },
    {
     "name": "stderr",
     "output_type": "stream",
     "text": [
      "epoch 20 iter 69: train loss 1.39412. lr 3.000000e-04 acc 0.6761229314420804:  71%|██▊ | 70/99 [00:28<00:11,  2.49it/s]"
     ]
    },
    {
     "name": "stdout",
     "output_type": "stream",
     "text": [
      "y: The style of towns in the south of the lower reaches of the Yangze River have been popular with painters \n",
      "pred: The head of towns in the south of the lower reaches world towns Yangze River of been style with painters \n"
     ]
    },
    {
     "name": "stderr",
     "output_type": "stream",
     "text": [
      "epoch 20 iter 70: train loss 1.52449. lr 3.000000e-04 acc 0.6258992805755396:  72%|██▊ | 71/99 [00:28<00:11,  2.48it/s]"
     ]
    },
    {
     "name": "stdout",
     "output_type": "stream",
     "text": [
      "y: Said Lomachenko: \"I've waited for the top fighters, and this is Mikey.  and intensify the scrutiny of the source \n",
      "pred: Said Lomachenko: \"I've waited for the amount fighters,  she is Mikey.  The intensify the scrutiny of the source \n"
     ]
    },
    {
     "name": "stderr",
     "output_type": "stream",
     "text": [
      "epoch 20 iter 71: train loss 1.33365. lr 3.000000e-04 acc 0.7:  73%|█████████████▊     | 72/99 [00:28<00:10,  2.49it/s]"
     ]
    },
    {
     "name": "stdout",
     "output_type": "stream",
     "text": [
      "y: the Resolution of the 16th National Congress of the Chinese Peasants' and Workers' Democratic Party, the 16th National Congress of \n",
      "pred: the Resolution of the 16th National Congress of the Chinese Peasants' Democratic Workers' Democratic Party, Resolution Report National Congress of \n"
     ]
    },
    {
     "name": "stderr",
     "output_type": "stream",
     "text": [
      "epoch 20 iter 72: train loss 1.62989. lr 3.000000e-04 acc 0.6164705882352941:  74%|██▉ | 73/99 [00:29<00:10,  2.50it/s]"
     ]
    },
    {
     "name": "stdout",
     "output_type": "stream",
     "text": [
      "y: For days, relevant departments in the counties have provided 2.838 million RMB of bursaries for over 690 college students from \n",
      "pred: The days, relevant departments in the counties has been of from RMB regions bursaries for the 690 college students from \n"
     ]
    },
    {
     "name": "stderr",
     "output_type": "stream",
     "text": [
      "epoch 20 iter 73: train loss 1.37006. lr 3.000000e-04 acc 0.6617647058823529:  75%|██▉ | 74/99 [00:29<00:10,  2.48it/s]"
     ]
    },
    {
     "name": "stdout",
     "output_type": "stream",
     "text": [
      "y: Although PSG will have paid Neymar's buyout clause in one lump sum, it can spread the amount for accounting purposes \n",
      "pred: Although PSG PSG be paid Neymar's buyout clause aspects the lump sum, the is the on amount on those purposes \n"
     ]
    },
    {
     "name": "stderr",
     "output_type": "stream",
     "text": [
      "epoch 20 iter 74: train loss 1.69479. lr 3.000000e-04 acc 0.6227180527383367:  76%|███ | 75/99 [00:30<00:09,  2.44it/s]"
     ]
    },
    {
     "name": "stdout",
     "output_type": "stream",
     "text": [
      "y: La Liga side may rue their interest in Marco Verratti  The door to China's opening up to the outside \n",
      "pred: La Liga side may rue their interest in Marco Verratti  China door will carry will will and the business \n"
     ]
    },
    {
     "name": "stderr",
     "output_type": "stream",
     "text": [
      "epoch 20 iter 75: train loss 1.53708. lr 3.000000e-04 acc 0.6447058823529411:  77%|███ | 76/99 [00:30<00:09,  2.44it/s]"
     ]
    },
    {
     "name": "stdout",
     "output_type": "stream",
     "text": [
      "y: And many people aren't weird or offensive until the free market gives them the permission to be so.  At \n",
      "pred: And many people aren't weird or offensive until the they to gives them the permission to be so.  At \n"
     ]
    },
    {
     "name": "stderr",
     "output_type": "stream",
     "text": [
      "epoch 20 iter 76: train loss 1.59949. lr 3.000000e-04 acc 0.611353711790393:  78%|███▉ | 77/99 [00:30<00:09,  2.44it/s]"
     ]
    },
    {
     "name": "stdout",
     "output_type": "stream",
     "text": [
      "y: The symposium on carrying forward the Red Ship Spirit was held on December 4 in Jiaxing, Zhejiang Province. Wang Huning, \n",
      "pred: On symposium of the forward the meeting Ship Spirit of held a the of Meeting Jiaxing, Meeting Province. the Huning, \n"
     ]
    },
    {
     "name": "stderr",
     "output_type": "stream",
     "text": [
      "epoch 20 iter 77: train loss 1.42585. lr 3.000000e-04 acc 0.6586666666666666:  79%|███▏| 78/99 [00:31<00:08,  2.47it/s]"
     ]
    },
    {
     "name": "stdout",
     "output_type": "stream",
     "text": [
      "y: In the wake of accelerating revitalization of the countryside, Zhejiang tourist towns will receive a more abundant and wonderful story. \n",
      "pred: In the wake of accelerating revitalization National the countryside, relations, tourist towns will receive a more abundant with wonderful business \n"
     ]
    },
    {
     "name": "stderr",
     "output_type": "stream",
     "text": [
      "epoch 20 iter 78: train loss 1.62209. lr 3.000000e-04 acc 0.6305970149253731:  80%|███▏| 79/99 [00:31<00:08,  2.45it/s]"
     ]
    },
    {
     "name": "stdout",
     "output_type": "stream",
     "text": [
      "y: It is understood that the 59th Grammy Awards will be held on February 12, 2017 US local time (morning of \n",
      "pred: According was understood that the 59th Grammy Awards in be held in November 12, the on and and (morning in \n"
     ]
    },
    {
     "name": "stderr",
     "output_type": "stream",
     "text": [
      "epoch 20 iter 79: train loss 1.33482. lr 3.000000e-04 acc 0.714622641509434:  81%|████ | 80/99 [00:32<00:07,  2.44it/s]"
     ]
    },
    {
     "name": "stdout",
     "output_type": "stream",
     "text": [
      "y: We Will Lose Everything, a 2016 report by the Archdiocese of Brisbane, contains testimony of atrocities committed the previous year, \n",
      "pred: Medvedev Will Lose Everything, a report report as the Archdiocese of Brisbane, contains testimony of atrocities committed report previous with \n"
     ]
    },
    {
     "name": "stderr",
     "output_type": "stream",
     "text": [
      "epoch 20 iter 80: train loss 1.31214. lr 3.000000e-04 acc 0.7139107611548556:  82%|███▎| 81/99 [00:32<00:07,  2.48it/s]"
     ]
    },
    {
     "name": "stdout",
     "output_type": "stream",
     "text": [
      "y: Last month, a federal appeals court in Washington ruled the EPA administrator overstepped his authority in trying to delay implementation \n",
      "pred: Last month, the federal appeals of and May ruled the office, administrator overstepped May authority to the and delay implementation \n"
     ]
    },
    {
     "name": "stderr",
     "output_type": "stream",
     "text": [
      "epoch 20 iter 81: train loss 1.46899. lr 3.000000e-04 acc 0.6565874730021598:  83%|███▎| 82/99 [00:32<00:06,  2.49it/s]"
     ]
    },
    {
     "name": "stdout",
     "output_type": "stream",
     "text": [
      "y: This has laid a solid foundation for maintaining good harvest year after year, continuously increasing farmers' income, and sustaining healthy \n",
      "pred: This is laid to solid foundation for maintaining good harvest year the common continuously increasing farmers' income, and social healthy \n"
     ]
    },
    {
     "name": "stderr",
     "output_type": "stream",
     "text": [
      "epoch 20 iter 82: train loss 1.43157. lr 3.000000e-04 acc 0.6658653846153846:  84%|███▎| 83/99 [00:33<00:06,  2.53it/s]"
     ]
    },
    {
     "name": "stdout",
     "output_type": "stream",
     "text": [
      "y: Now that the company is using Convercent, though, problems that were previously hidden from executives who sat in offices cities \n",
      "pred: In that companies other is willing Convercent, though, problems that the previously hidden to executives who sat in the cities \n"
     ]
    },
    {
     "name": "stderr",
     "output_type": "stream",
     "text": [
      "epoch 20 iter 83: train loss 1.20112. lr 3.000000e-04 acc 0.6983695652173914:  85%|███▍| 84/99 [00:33<00:05,  2.51it/s]"
     ]
    },
    {
     "name": "stdout",
     "output_type": "stream",
     "text": [
      "y: Trump pressured Mexico on border wall payment according to leaked phone call transcripts  According to reports, President Xi Jinping \n",
      "pred: Trump pressured Mexico on domestic wall payment the to leaked phone call transcripts and At to reports, President Xi Jinping \n"
     ]
    },
    {
     "name": "stderr",
     "output_type": "stream",
     "text": [
      "epoch 20 iter 84: train loss 1.36395. lr 3.000000e-04 acc 0.678082191780822:  86%|████▎| 85/99 [00:34<00:05,  2.45it/s]"
     ]
    },
    {
     "name": "stdout",
     "output_type": "stream",
     "text": [
      "y: Maldivian President Yaming said in his letter of greetings , “the important decisions made at the 19th National Congress of \n",
      "pred: President President Yaming said in the letter in greetings , “the important in in in the 19th National Congress, of \n"
     ]
    },
    {
     "name": "stderr",
     "output_type": "stream",
     "text": [
      "epoch 20 iter 85: train loss 1.57856. lr 3.000000e-04 acc 0.6264501160092807:  87%|███▍| 86/99 [00:34<00:05,  2.47it/s]"
     ]
    },
    {
     "name": "stdout",
     "output_type": "stream",
     "text": [
      "y: Early this year, Audi was swept up into a German criminal investigation involving Volkswagen after the authorities accused Audi of \n",
      "pred: One to year, Audi was swept up a a German criminal on involving Volkswagen the the South authorities Audi of \n"
     ]
    },
    {
     "name": "stderr",
     "output_type": "stream",
     "text": [
      "epoch 20 iter 86: train loss 1.49524. lr 3.000000e-04 acc 0.6379821958456974:  88%|███▌| 87/99 [00:34<00:04,  2.48it/s]"
     ]
    },
    {
     "name": "stdout",
     "output_type": "stream",
     "text": [
      "y: The chair of the Loudoun County Board of Supervisors violated the First Amendment, according to U.S. District Judge James C. \n",
      "pred: The chair of the Loudoun County Board of Supervisors violated when First Amendment, according to her in Judge James C. \n"
     ]
    },
    {
     "name": "stderr",
     "output_type": "stream",
     "text": [
      "epoch 20 iter 87: train loss 1.49055. lr 3.000000e-04 acc 0.6720430107526881:  89%|███▌| 88/99 [00:35<00:04,  2.50it/s]"
     ]
    },
    {
     "name": "stdout",
     "output_type": "stream",
     "text": [
      "y: Yesterday, PFC Energy published its 2011 list of the Top 50 largest listed energy companies. US oil and gas producer \n",
      "pred: Yesterday, PFC Energy will a 2011 the and the Top including energy listed energy companies. and of and gas producer \n"
     ]
    },
    {
     "name": "stderr",
     "output_type": "stream",
     "text": [
      "epoch 20 iter 88: train loss 1.14942. lr 3.000000e-04 acc 0.7049180327868853:  90%|███▌| 89/99 [00:35<00:03,  2.51it/s]"
     ]
    },
    {
     "name": "stdout",
     "output_type": "stream",
     "text": [
      "y: At noon today, China successfully sent the No.1 land survey satellite into scheduled orbit using the Long March II Ding \n",
      "pred: At noon today, China will sent an No.1 land survey satellite will smart orbit of the Long March II Ding \n"
     ]
    },
    {
     "name": "stderr",
     "output_type": "stream",
     "text": [
      "epoch 20 iter 89: train loss 1.40923. lr 3.000000e-04 acc 0.6857142857142857:  91%|███▋| 90/99 [00:36<00:03,  2.51it/s]"
     ]
    },
    {
     "name": "stdout",
     "output_type": "stream",
     "text": [
      "y: Elsewhere, according to reports by TASS on January 16, Manturov told reporters that the “motorcade” series of automobiles will be \n",
      "pred: The will to reporters the TASS 15, January 16, Manturov told reporters will the “motorcade” series of automobiles will be \n"
     ]
    },
    {
     "name": "stderr",
     "output_type": "stream",
     "text": [
      "epoch 20 iter 90: train loss 1.39313. lr 3.000000e-04 acc 0.678343949044586:  92%|████▌| 91/99 [00:36<00:03,  2.50it/s]"
     ]
    },
    {
     "name": "stdout",
     "output_type": "stream",
     "text": [
      "y: \"Under previous administrations, EPA would often fail to meet designation deadlines, and then wait to be sued by activist groups \n",
      "pred: \"Under previous administrations, EPA he be fail to be designation deadlines, on then wait to be sued sued activist groups \n"
     ]
    },
    {
     "name": "stderr",
     "output_type": "stream",
     "text": [
      "epoch 20 iter 91: train loss 1.55625. lr 3.000000e-04 acc 0.6396588486140725:  93%|███▋| 92/99 [00:36<00:02,  2.46it/s]"
     ]
    },
    {
     "name": "stdout",
     "output_type": "stream",
     "text": [
      "y: The chairman-in-office of the Bosnia and Herzegovina presidency, Covic  Today is Friday, November 3rd, and the 15th day of \n",
      "pred: The chairman-in-office of the Bosnia and Herzegovina presidency, Covic  Today is November November 3rd, released the 16th day of \n"
     ]
    },
    {
     "name": "stderr",
     "output_type": "stream",
     "text": [
      "epoch 20 iter 92: train loss 1.66784. lr 3.000000e-04 acc 0.6432038834951457:  94%|███▊| 93/99 [00:37<00:02,  2.45it/s]"
     ]
    },
    {
     "name": "stdout",
     "output_type": "stream",
     "text": [
      "y: President Meta of Albania  Correspondents say the growing strength of the Taliban and the group known as so-called Islamic \n",
      "pred: President Meta of Albania  Correspondents say the Taliban group of the Taliban from the Taliban of of so-called Islamic \n"
     ]
    },
    {
     "name": "stderr",
     "output_type": "stream",
     "text": [
      "epoch 20 iter 93: train loss 1.61240. lr 3.000000e-04 acc 0.6456211812627292:  95%|███▊| 94/99 [00:37<00:02,  2.46it/s]"
     ]
    },
    {
     "name": "stdout",
     "output_type": "stream",
     "text": [
      "y: The entire army must conscientiously study and implement the spirit of the 19th National Congress of the Communist Party, thoroughly \n",
      "pred: The new army and conscientiously study and the the spirit of the 19th National Congress of the spirit Party thoroughly \n"
     ]
    },
    {
     "name": "stderr",
     "output_type": "stream",
     "text": [
      "epoch 20 iter 94: train loss 1.32584. lr 3.000000e-04 acc 0.6455696202531646:  96%|███▊| 95/99 [00:38<00:01,  2.49it/s]"
     ]
    },
    {
     "name": "stdout",
     "output_type": "stream",
     "text": [
      "y: Market order shall be normalized, and strong measures shall be taken to crack down on counterfeit and shoddy products so \n",
      "pred: Market order shall be normalized, and strong and to be taken to crack down the the and shoddy  the \n"
     ]
    },
    {
     "name": "stderr",
     "output_type": "stream",
     "text": [
      "epoch 20 iter 95: train loss 1.34376. lr 3.000000e-04 acc 0.699438202247191:  97%|████▊| 96/99 [00:38<00:01,  2.51it/s]"
     ]
    },
    {
     "name": "stdout",
     "output_type": "stream",
     "text": [
      "y: Black queer women have to bear the brunt of it all.\"  and the Forge Ahead Five-Year Major Achievements Exhibition. \n",
      "pred: Black queer women to to bear from brunt of queer all.\"  and the Forge Ahead Five-Year Major Achievements Exhibition. \n"
     ]
    },
    {
     "name": "stderr",
     "output_type": "stream",
     "text": [
      "epoch 20 iter 96: train loss 1.42859. lr 3.000000e-04 acc 0.6577380952380952:  98%|███▉| 97/99 [00:38<00:00,  2.53it/s]"
     ]
    },
    {
     "name": "stdout",
     "output_type": "stream",
     "text": [
      "y: Inject new strong impetus  Wang Fengyuan spoke at the launch of his new book, saying that before coming to \n",
      "pred: Inject  strong impetus  She Fengyuan spoke that the experience of the appointment book, said that the the to \n"
     ]
    },
    {
     "name": "stderr",
     "output_type": "stream",
     "text": [
      "epoch 20 iter 97: train loss 1.60847. lr 3.000000e-04 acc 0.6107226107226107:  99%|███▉| 98/99 [00:39<00:00,  2.51it/s]"
     ]
    },
    {
     "name": "stdout",
     "output_type": "stream",
     "text": [
      "y: Yang Yanyin, Director of the Subcommittee of Hong Kong, Macao and Taiwan Compatriots and overseas Chinese individuals, delivered a congratulatory \n",
      "pred: Yang Yanyin, of of the Subcommittee of the Kong, Macao is overseas Compatriots of overseas the individuals, delivered of congratulatory \n"
     ]
    },
    {
     "name": "stderr",
     "output_type": "stream",
     "text": [
      "epoch 20 iter 98: train loss 1.44678. lr 3.000000e-04 acc 0.6649350649350649: 100%|████| 99/99 [00:39<00:00,  2.49it/s]"
     ]
    },
    {
     "name": "stdout",
     "output_type": "stream",
     "text": [
      "y: Her captain's speech was incredible,\" says Black.  We must strive to build a clean and beautiful world with green \n",
      "pred: Her captain's speech says incredible,\" says Black.  We must strive to build a clean and work world in green \n"
     ]
    },
    {
     "name": "stderr",
     "output_type": "stream",
     "text": [
      "\n"
     ]
    }
   ],
   "source": [
    "transformer = Transformer(words_size=words_size, sens_len=sens_len, heads=heads, embed_dims=embed_dims,\n",
    "                          drop_rate=drop_rate)\n",
    "loss_fn = torch.nn.CrossEntropyLoss()\n",
    "optimizer = torch.optim.Adam(transformer.parameters(), lr=lr)\n",
    "transformer.train()\n",
    "for epoch in range(epochs):\n",
    "    pbar = tqdm(enumerate(loader), total=len(loader))\n",
    "    for i, (x, y) in pbar:\n",
    "        pred = transformer(x, y[:, :-1])\n",
    "        pred = pred.reshape(-1, words_size)\n",
    "        y=y[:, 1:].reshape(-1)\n",
    "        selected = y != vocab_dic['encode']['<PAD>']\n",
    "        pred = pred[selected]\n",
    "        y = y[selected]\n",
    "        \n",
    "        loss = loss_fn(pred, y)\n",
    "        optimizer.zero_grad()\n",
    "        loss.backward()\n",
    "        optimizer.step()\n",
    "        \n",
    "        pred = pred.argmax(dim=1)\n",
    "        if epoch == epochs - 1:\n",
    "            print('y:', toStr(y[:20]))\n",
    "            print('pred:', toStr(pred[:20]))\n",
    "        pbar.set_description(f\"epoch {epoch + 1} iter {i}: train loss {loss.item():.5f}. lr {lr:e} acc {((pred == y).sum().item())/len(pred)}\")"
   ]
  },
  {
   "cell_type": "code",
   "execution_count": 7,
   "metadata": {},
   "outputs": [],
   "source": [
    "torch.save(transformer.state_dict(), 'transformer.pt')"
   ]
  },
  {
   "cell_type": "code",
   "execution_count": 8,
   "metadata": {},
   "outputs": [
    {
     "data": {
      "text/plain": [
       "<All keys matched successfully>"
      ]
     },
     "execution_count": 8,
     "metadata": {},
     "output_type": "execute_result"
    }
   ],
   "source": [
    "transformer.load_state_dict(torch.load('transformer.pt'))"
   ]
  },
  {
   "cell_type": "code",
   "execution_count": 9,
   "metadata": {},
   "outputs": [],
   "source": [
    "def predict(x):\n",
    "    '''\n",
    "    :param x: [1, n]\n",
    "    :return: predicted sentence\n",
    "    '''\n",
    "    transformer.eval()\n",
    "    n = x.shape[1]\n",
    "    mask_pad_x = mask_pad(x)\n",
    "    pred = [vocab_dic['encode']['<START>']] + [vocab_dic['encode']['<PAD>']] * (n - 1)\n",
    "    pred = torch.LongTensor(pred).unsqueeze(0)\n",
    "    x = transformer.embed_x(x)\n",
    "    x = transformer.encoder(x, mask_pad_x)\n",
    "\n",
    "    for i in range(n - 1):\n",
    "        y = pred\n",
    "        mask_tril_y = mask_tril(y)\n",
    "        y = transformer.embed_y(y)\n",
    "        y = transformer.decoder(x, y, mask_pad_x, mask_tril_y)\n",
    "        out = transformer.fc_out(y)\n",
    "        out = out[:, i, :].argmax(dim=1).detach()\n",
    "        pred[:, i + 1] = out\n",
    "        \n",
    "#     x = ['<START>'] + list('参加会议') + ['<END>'] + ['<PAD>'] * 74\n",
    "#     y = ['<START>'] + 'attended the meeting this you'.split(' ') + ['<END>'] + ['<PAD>'] * 73\n",
    "#     x = [vocab_dic['encode'][w] for w in x]\n",
    "#     y = [vocab_dic['encode'][w] for w in y]\n",
    "#     x = torch.LongTensor(x).unsqueeze(0)\n",
    "#     y = torch.LongTensor(y).unsqueeze(0)\n",
    "    \n",
    "#     pred = transformer(x, y).reshape(-1, words_size)\n",
    "#     y=y.reshape(-1)\n",
    "#     selected = y != vocab_dic['encode']['<PAD>']\n",
    "#     pred = pred[selected]\n",
    "#     y = y[selected]\n",
    "#     pred = pred.argmax(dim=1)\n",
    "    return pred\n",
    "    "
   ]
  },
  {
   "cell_type": "code",
   "execution_count": 10,
   "metadata": {},
   "outputs": [
    {
     "name": "stdout",
     "output_type": "stream",
     "text": [
      "x:  胡 塞 武 装 则 声 称 已 经 控 制 了 原 属 于 萨 利 赫 的 今 日 电 视 台 。                                                       \n",
      "y:  The Houthis armed forces claimed to have taken control of today's television station, which belonged to Saleh.                                                                \n",
      "pred:  At Riodoce, the Houthis armed forces claimed to control of today's television station, which belonged to Saleh.  government  was taken                                                          \n",
      "x:  《 十 年 后 》 中 ， 成 年 人 实 实 在 在 的 扮 演 成 年 人 ， 情 绪 便 没 有 太 根 深 蒂 固 ， 模 仿 也 更 加 散 漫 ， 其 中 包 括 对   9 0   年 代 跟 踪 电 影 的 即 兴 创 作 ， 如 《 推 动 摇 篮 的 手 》 。         \n",
      "y:  \"Ten Years Later,\" with its adults now playing adults, is less emotionally rooted and its parody more scattershot, including a riff on '90s stalker flicks like \"The Hand That Rocks the Cradle.\"                                                 \n",
      "pred:  In late fact, Paniai rules related to Ferguson by third-party the top of a riff a riff a riff on '90s stalker flicks in the top of 11 with a country, of Officer or approximately RMB2.986 in the Cradle.\" of Officer or other  in the Cradle.\"  in the Cradle.\"  in the Cradle.\"  of Officer or so.  in the world.  of Officer or so.  in the Cradle.\"  in the Cradle.\"  on \n",
      "x:  塞 万 提 斯 ? 巴 拉 甘   ( C e r v a n t e s - B a r r a g a n )   博 士 解 释 说 ， 人 们 和 老 鼠 一 样 ， 具 有 相 同 的 增 进 耐 受 力 的 细 胞 ， 我 们 大 多 数 人 在 我 们 的 胃 肠 道 中 存 在 着 路 氏 乳 杆 \n",
      "y:  Dr Cervantes-Barragan explained people have the same tolerance-promoting cells as mice, and most of us shelter L. reuteri in our gastrointestinal tracts.                                                           \n",
      "pred:  Dr Cervantes-Barragan explained the police problem L. reuteri us us about bad press. explained L. reuteri us about making in the normal have the normal have the normal have been reclaimed L. reuteri us about making  of making  of which whose of Officer start                             - which L. reuteri  \n",
      "x:  暴 露 前 预 防 用 药   ( P r E P )   是 一 种 在 性 行 为 之 前 服 用 、 以 降 低 感 染 艾 滋 病 毒 风 险 的 艾 滋 病 病 毒 药 物 。                                 \n",
      "y:  Pre-exposure prophylaxis (PrEP) is a course of HIV drugs taken before sex to reduce the risk of getting HIV.                                                              \n",
      "pred:  Pre-exposure prophylaxis (PrEP) is a course of HIV drugs taken before sex to reduce taken before sex to reduce the risk                                                           \n",
      "x:  2 0 1 5 年 禁 用 死 囚 器 官 当 年 ， 中 国 公 民 逝 世 后 捐 献 器 官 2 7 7 6 例 ， 完 成 1 0 0 5 7 例 器 官 移 植 手 术 ， 刷 新 了 历 史 纪 录 。                          \n",
      "y:  In 2015, the year when harvesting the organs of death row inmates was forbidden, there were 2,776 cases of organ donations from Chinese citizens upon death, and 10,057 organ transplant surgeries performed, setting a new record.                                             \n",
      "pred:  In 2015, the organs of the organs and 10,057 organ transplant to U.S. from the middle of the middle of the middle of the organs of the world.  between China from China from China from China will resume new record. jobs for users  and 10,057 organ transplant surgeries  and 10,057 organ transplant surgeries  of small village.  and 10,057 organ transplant surgeries    and 10,057 organ transplant      and \n",
      "x:  你 必 须 以 记 者 的 身 份 承 担 落 到 你 肩 上 的 任 务 — — 要 么 如 此 ， 要 么 装 聋 作 哑 。                                               \n",
      "y:  \"You have to assume the task that falls to you as a journalist - either that or you play dumb.                                                             \n",
      "pred:  \"You need to the free coalition to meet you as a journalist you for light. you play dumb.                                                              \n"
     ]
    }
   ],
   "source": [
    "for i, (x, y) in enumerate(loader):\n",
    "    print('x:', toStr(x[0]))\n",
    "    print('y:', toStr(y[0]))\n",
    "    print('pred:', toStr(predict(x[0].unsqueeze(0))[0]))\n",
    "    if i == 5:\n",
    "        break"
   ]
  },
  {
   "cell_type": "code",
   "execution_count": 11,
   "metadata": {},
   "outputs": [],
   "source": [
    "def translate(sent):\n",
    "    sent = list(sent)\n",
    "    x = ['<START>'] + sent + ['<END>'] + ['<PAD>'] * 80\n",
    "    x = x[:80]\n",
    "    x = [vocab_dic['encode'][w] for w in x]\n",
    "    x = torch.LongTensor(x).unsqueeze(0)\n",
    "    return toStr(predict(x)[0])"
   ]
  },
  {
   "cell_type": "code",
   "execution_count": 17,
   "metadata": {},
   "outputs": [
    {
     "data": {
      "text/plain": [
       "' China China China to sign China.                                                                          '"
      ]
     },
     "execution_count": 17,
     "metadata": {},
     "output_type": "execute_result"
    }
   ],
   "source": [
    "sent = '中国人不骗中国人。'\n",
    "translate(sent)"
   ]
  },
  {
   "cell_type": "code",
   "execution_count": 18,
   "metadata": {},
   "outputs": [
    {
     "data": {
      "text/plain": [
       "' \"You need to the weird to meet meet meet meet meet meet meet meet meet  to meet                                                              '"
      ]
     },
     "execution_count": 18,
     "metadata": {},
     "output_type": "execute_result"
    }
   ],
   "source": [
    "sent = '你必须以记者的身份承担落到你肩上的任务'\n",
    "translate(sent)"
   ]
  },
  {
   "cell_type": "code",
   "execution_count": null,
   "metadata": {},
   "outputs": [],
   "source": []
  }
 ],
 "metadata": {
  "kernelspec": {
   "display_name": "Python [conda env:a3]",
   "language": "python",
   "name": "conda-env-a3-py"
  },
  "language_info": {
   "codemirror_mode": {
    "name": "ipython",
    "version": 3
   },
   "file_extension": ".py",
   "mimetype": "text/x-python",
   "name": "python",
   "nbconvert_exporter": "python",
   "pygments_lexer": "ipython3",
   "version": "3.7.5"
  }
 },
 "nbformat": 4,
 "nbformat_minor": 4
}
